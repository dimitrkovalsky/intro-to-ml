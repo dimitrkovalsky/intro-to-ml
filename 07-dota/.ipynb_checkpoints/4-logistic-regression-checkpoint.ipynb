{
 "cells": [
  {
   "cell_type": "code",
   "execution_count": 5,
   "metadata": {},
   "outputs": [],
   "source": [
    "import pandas\n",
    "from utils import get_data\n",
    "import numpy as np\n",
    "import time\n",
    "import datetime\n",
    "import matplotlib.pyplot as plt\n",
    "from sklearn.cross_validation import KFold, cross_val_score, train_test_split\n",
    "from sklearn.metrics import roc_auc_score\n",
    "from sklearn.linear_model import LogisticRegression\n",
    "from sklearn.preprocessing import StandardScaler"
   ]
  },
  {
   "cell_type": "markdown",
   "metadata": {},
   "source": [
    "## Логистическая регрессия"
   ]
  },
  {
   "cell_type": "code",
   "execution_count": 7,
   "metadata": {},
   "outputs": [],
   "source": [
    "X, y, X_test = get_data(\"clean\")\n",
    "scaler = StandardScaler()\n",
    "X = scaler.fit_transform(X)\n",
    "\n",
    "k_fold = KFold(y.size, n_folds=5, shuffle=True, random_state=42)"
   ]
  },
  {
   "cell_type": "code",
   "execution_count": 14,
   "metadata": {
    "collapsed": true
   },
   "outputs": [],
   "source": [
    "def show_scores(C, scores):\n",
    "    plt.plot(C, scores)\n",
    "    plt.xlabel('log(C)')\n",
    "    plt.ylabel('score')\n",
    "    plt.show()\n",
    "\n",
    "def test_model_with_c(X, y, C):\n",
    "    print('Param C =', str(C))\n",
    "    model = LogisticRegression(C = C, random_state = 42, n_jobs = -1)\n",
    "    return cross_val_score(model, X, y, cv = k_fold, scoring = 'roc_auc', n_jobs = -1)\n",
    "    \n",
    "def test_model(X, y):\n",
    "    scores = []\n",
    "    C_pow_range = range(-5, 6)\n",
    "    C_range = [10.0 ** i for i in C_pow_range]\n",
    "    for C in C_range:\n",
    "        start_time = datetime.datetime.now()\n",
    "        model_scores = test_model_with_c(X, y, C)\n",
    "        mean = np.mean(model_scores)\n",
    "        print('Mean: ',mean)\n",
    "        print('Time:', datetime.datetime.now() - start_time)      \n",
    "        scores.append(mean)\n",
    "\n",
    "    show_scores(C_pow_range, scores)\n",
    "    \n",
    "    max_score = max(scores)\n",
    "    max_score_index = scores.index(max_score)\n",
    "    return C_range[max_score_index], max_score"
   ]
  },
  {
   "cell_type": "markdown",
   "metadata": {},
   "source": [
    "## Выбор параметра регуляризации"
   ]
  },
  {
   "cell_type": "code",
   "execution_count": 15,
   "metadata": {},
   "outputs": [
    {
     "name": "stdout",
     "output_type": "stream",
     "text": [
      "Param C = 1e-05\n",
      "Mean:  0.695161685464\n",
      "Time: 0:00:04.586025\n",
      "Param C = 0.0001\n",
      "Mean:  0.711357747143\n",
      "Time: 0:00:05.955596\n",
      "Param C = 0.001\n",
      "Mean:  0.716363537821\n",
      "Time: 0:00:08.279828\n",
      "Param C = 0.01\n",
      "Mean:  0.716550269726\n",
      "Time: 0:00:09.639963\n",
      "Param C = 0.1\n",
      "Mean:  0.716527148666\n",
      "Time: 0:00:11.111111\n",
      "Param C = 1.0\n",
      "Mean:  0.716522600363\n",
      "Time: 0:00:10.963097\n",
      "Param C = 10.0\n",
      "Mean:  0.716522288896\n",
      "Time: 0:00:10.015001\n",
      "Param C = 100.0\n",
      "Mean:  0.716522295258\n",
      "Time: 0:00:09.909991\n",
      "Param C = 1000.0\n",
      "Mean:  0.716522322796\n",
      "Time: 0:00:10.099010\n",
      "Param C = 10000.0\n",
      "Mean:  0.716522327033\n",
      "Time: 0:00:10.170017\n",
      "Param C = 100000.0\n",
      "Mean:  0.716522331269\n",
      "Time: 0:00:09.828982\n"
     ]
    },
    {
     "data": {
      "image/png": "[encoded data removed]",
      "text/plain": [
       "<matplotlib.figure.Figure at 0xa6e7f60>"
      ]
     },
     "metadata": {},
     "output_type": "display_data"
    },
    {
     "name": "stdout",
     "output_type": "stream",
     "text": [
      "0.01\n",
      "0.716550269726\n"
     ]
    }
   ],
   "source": [
    "C, score = test_model(X, y)\n",
    "print(C)\n",
    "print(score)"
   ]
  },
  {
   "cell_type": "markdown",
   "metadata": {},
   "source": [
    "## Удаление категориальных признаков"
   ]
  },
  {
   "cell_type": "code",
   "execution_count": 18,
   "metadata": {},
   "outputs": [],
   "source": [
    "X, y, X_test = get_data('clean_lobby')\n",
    "scaler = StandardScaler()\n",
    "X = scaler.fit_transform(X)\n",
    "\n",
    "k_fold = KFold(y.size, n_folds=5, shuffle=True, random_state=42)"
   ]
  },
  {
   "cell_type": "code",
   "execution_count": 20,
   "metadata": {
    "scrolled": true
   },
   "outputs": [
    {
     "name": "stdout",
     "output_type": "stream",
     "text": [
      "Param C = 1e-05\n",
      "Mean:  0.695100191344\n",
      "Time: 0:00:04.538000\n",
      "Param C = 0.0001\n",
      "Mean:  0.711339145863\n",
      "Time: 0:00:05.325000\n",
      "Param C = 0.001\n",
      "Mean:  0.716375799908\n",
      "Time: 0:00:07.022000\n",
      "Param C = 0.01\n",
      "Mean:  0.716559388563\n",
      "Time: 0:00:08.976000\n",
      "Param C = 0.1\n",
      "Mean:  0.716534240347\n",
      "Time: 0:00:09.935000\n",
      "Param C = 1.0\n",
      "Mean:  0.716530363451\n",
      "Time: 0:00:10.056000\n",
      "Param C = 10.0\n",
      "Mean:  0.716529971503\n",
      "Time: 0:00:09.674000\n",
      "Param C = 100.0\n",
      "Mean:  0.716529891006\n",
      "Time: 0:00:09.644000\n",
      "Param C = 1000.0\n",
      "Mean:  0.716529888885\n",
      "Time: 0:00:10.070000\n",
      "Param C = 10000.0\n",
      "Mean:  0.71652988465\n",
      "Time: 0:00:09.572319\n",
      "Param C = 100000.0\n",
      "Mean:  0.71652988465\n",
      "Time: 0:00:09.466947\n"
     ]
    },
    {
     "data": {
      "image/png": "[encoded data removed]",
      "text/plain": [
       "<matplotlib.figure.Figure at 0xac3fe10>"
      ]
     },
     "metadata": {},
     "output_type": "display_data"
    },
    {
     "name": "stdout",
     "output_type": "stream",
     "text": [
      "0.01\n",
      "0.716559388563\n"
     ]
    }
   ],
   "source": [
    "C, score = test_model(X, y)\n",
    "print(C)\n",
    "print(score)"
   ]
  },
  {
   "cell_type": "markdown",
   "metadata": {},
   "source": [
    "## “Мешок слов” для кодирования информации о героях"
   ]
  },
  {
   "cell_type": "code",
   "execution_count": 24,
   "metadata": {},
   "outputs": [
    {
     "name": "stdout",
     "output_type": "stream",
     "text": [
      "Param C = 1e-05\n",
      "Mean:  0.699216215758\n",
      "Time: 0:00:05.843585\n",
      "Param C = 0.0001\n",
      "Mean:  0.725071500621\n",
      "Time: 0:00:05.889589\n",
      "Param C = 0.001\n",
      "Mean:  0.746334151101\n",
      "Time: 0:00:09.676967\n",
      "Param C = 0.01\n",
      "Mean:  0.751737728455\n",
      "Time: 0:00:13.725373\n",
      "Param C = 0.1\n",
      "Mean:  0.751947449817\n",
      "Time: 0:00:18.049805\n",
      "Param C = 1.0\n",
      "Mean:  0.7519272369\n",
      "Time: 0:00:18.965896\n",
      "Param C = 10.0\n",
      "Mean:  0.75192512395\n",
      "Time: 0:00:18.989899\n",
      "Param C = 100.0\n",
      "Mean:  0.751924793406\n",
      "Time: 0:00:18.698870\n",
      "Param C = 1000.0\n",
      "Mean:  0.751924609041\n",
      "Time: 0:00:19.128912\n",
      "Param C = 10000.0\n",
      "Mean:  0.75192458152\n",
      "Time: 0:00:19.196920\n",
      "Param C = 100000.0\n",
      "Mean:  0.75192464931\n",
      "Time: 0:00:20.067006\n"
     ]
    },
    {
     "data": {
      "image/png": "[encoded data removed]",
      "text/plain": [
       "<matplotlib.figure.Figure at 0xa825278>"
      ]
     },
     "metadata": {},
     "output_type": "display_data"
    },
    {
     "name": "stdout",
     "output_type": "stream",
     "text": [
      "0.1\n",
      "0.751947449817\n"
     ]
    }
   ],
   "source": [
    "X, y, X_test = get_data('clean_lobby')\n",
    "X_hero, _y, X_test_hero = get_data('heroyes')\n",
    "\n",
    "scaler = StandardScaler()\n",
    "X = pandas.DataFrame(scaler.fit_transform(X), index = X.index)\n",
    "\n",
    "X = pandas.concat([X, X_hero], axis=1)\n",
    "\n",
    "k_fold = KFold(y.size, n_folds=5, shuffle=True, random_state=42)\n",
    "\n",
    "C, score = test_model(X, y)\n",
    "print(C)\n",
    "print(score)"
   ]
  },
  {
   "cell_type": "markdown",
   "metadata": {},
   "source": [
    "# Ответы"
   ]
  },
  {
   "cell_type": "markdown",
   "metadata": {},
   "source": [
    "1. Логистическая регрессия дала качество 0.716. \n",
    "И это лучше чем в градиентного бустинга, потому что даже с 70 деревьями качество бустинга не поднималось выше 0.7.\n",
    "При этом регрессия работает намного быстрее.\n",
    "2. Удаление категориальных признаков никак не повлияло на качество модели.\n",
    "Лучшее значение показателя AUC-ROC достигается при C = 0.01 и равно 0.716.\n",
    "От сюда следует что эти признаки в предыдущей модели никак не влияли на результат.\n",
    "3. В игре существует 112 героев, точнее в датасете.\n",
    "4. При добавлении мешка слов качество модели улучшилось до 0.75 что лучше чем предыдущее модели.\n",
    "Это можно объяснить тем, что вместо отсутствия данных о героях или случайного шума из id мы имеем осмысленную разреженную матрицу для построения прогноза.\n",
    "5. Минимальное значние у  алгоритма с использованием мешка слов было  0.699 при С = 0.00001,\n",
    "а максимальное было 0.75 при С = 0.1"
   ]
  },
  {
   "cell_type": "code",
   "execution_count": null,
   "metadata": {
    "collapsed": true
   },
   "outputs": [],
   "source": []
  }
 ],
 "metadata": {
  "kernelspec": {
   "display_name": "Python 3",
   "language": "python",
   "name": "python3"
  },
  "language_info": {
   "codemirror_mode": {
    "name": "ipython",
    "version": 3
   },
   "file_extension": ".py",
   "mimetype": "text/x-python",
   "name": "python",
   "nbconvert_exporter": "python",
   "pygments_lexer": "ipython3",
   "version": "3.5.3"
  }
 },
 "nbformat": 4,
 "nbformat_minor": 2
}
