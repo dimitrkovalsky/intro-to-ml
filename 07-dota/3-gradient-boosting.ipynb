{
 "cells": [
  {
   "cell_type": "code",
   "execution_count": 6,
   "metadata": {},
   "outputs": [],
   "source": [
    "import pandas\n",
    "from utils import get_data\n",
    "import numpy as np\n",
    "import time\n",
    "import datetime\n",
    "import matplotlib.pyplot as plt\n",
    "from sklearn.cross_validation import KFold, cross_val_score, train_test_split\n",
    "from sklearn.ensemble import GradientBoostingClassifier\n",
    "from sklearn.metrics import roc_auc_score"
   ]
  },
  {
   "cell_type": "markdown",
   "metadata": {},
   "source": [
    "## Градиентный бустинг"
   ]
  },
  {
   "cell_type": "code",
   "execution_count": 7,
   "metadata": {},
   "outputs": [],
   "source": [
    "X, y, X_test = get_data(\"clean\")\n",
    "k_folds = KFold(y.size, n_folds=5, shuffle=True, random_state=42)"
   ]
  },
  {
   "cell_type": "code",
   "execution_count": 12,
   "metadata": {},
   "outputs": [
    {
     "name": "stdout",
     "output_type": "stream",
     "text": [
      "Trees : 10\n",
      "Time:  0:00:16.581000\n",
      "0.664850687975\n",
      "Trees : 20\n",
      "Time:  0:00:28.534000\n",
      "0.682461876804\n",
      "Trees : 30\n",
      "Time:  0:00:41.850958\n",
      "0.690006471039\n",
      "Trees : 50\n",
      "Time:  0:01:09.299929\n",
      "0.697494360947\n",
      "Trees : 60\n",
      "Time:  0:01:20.548054\n",
      "0.700119315674\n",
      "Trees : 70\n",
      "Time:  0:01:34.354434\n",
      "0.702116541454\n"
     ]
    }
   ],
   "source": [
    "scores = []\n",
    "nums = [10, 20, 30, 50, 60, 70]\n",
    "for n in nums:\n",
    "    print('Trees :', str(n))\n",
    "    model = GradientBoostingClassifier(n_estimators=n, random_state=42)\n",
    "    start_time = datetime.datetime.now()\n",
    "    model_scores = cross_val_score(model, X, y, cv=k_folds, scoring='roc_auc', n_jobs=-1)\n",
    "    print('Time: ', datetime.datetime.now() - start_time)\n",
    "    score_mean = np.mean(model_scores) \n",
    "    print(score_mean)\n",
    "    scores.append(score_mean)"
   ]
  },
  {
   "cell_type": "code",
   "execution_count": 13,
   "metadata": {},
   "outputs": [
    {
     "data": {
      "image/png": "[encoded data removed]",
      "text/plain": [
       "<matplotlib.figure.Figure at 0xac1be48>"
      ]
     },
     "metadata": {},
     "output_type": "display_data"
    }
   ],
   "source": [
    "plt.plot(nums, scores)\n",
    "plt.xlabel('n_estimators')\n",
    "plt.ylabel('score')\n",
    "plt.show()"
   ]
  },
  {
   "cell_type": "markdown",
   "metadata": {},
   "source": [
    "## Ответы\n",
    "\n",
    "1. Взято из файла 1-data-explore\n",
    "\n",
    "first_blood_player2            0.452402\n",
    "radiant_flying_courier_time    0.282619\n",
    "dire_flying_courier_time       0.268415\n",
    "first_blood_time               0.201100\n",
    "first_blood_team               0.201100\n",
    "first_blood_player1            0.201100\n",
    "dire_bottle_time               0.166029\n",
    "radiant_bottle_time            0.161380\n",
    "radiant_first_ward_time        0.018883\n",
    "dire_first_ward_time           0.018780\n",
    "radiant_courier_time           0.007117\n",
    "dire_courier_time              0.006953\n",
    "\n",
    "first_blood_player2 - первое убийство может быть совершено одним игроком, это явление происходит в 45% случаев\n",
    "radiant_flying_courier_time - в 28% случаев команда не покупает “flying_courier” в первые 5 минут игры\n",
    "\n",
    "2. radiant_win\n",
    "3. Кросс-валидация для градиентного бустинга с 30 деревьями заняла 41.85 секунд и получилось качество : 0.69\n",
    "4. Есть смысл использовать больше деревьев, как видно с графика, при этом качество классификации возрастает, но время обучения тоже сильно растет. Для ускорения обучения можно использовать не всю выборку, а некоторое ее подмножество. Также можно уменьшить глубину деревьев (max_depth)."
   ]
  },
  {
   "cell_type": "code",
   "execution_count": null,
   "metadata": {
    "collapsed": true
   },
   "outputs": [],
   "source": [
    ""
   ]
  }
 ],
 "metadata": {
  "kernelspec": {
   "display_name": "Python 3",
   "language": "python",
   "name": "python3"
  },
  "language_info": {
   "codemirror_mode": {
    "name": "ipython",
    "version": 3.0
   },
   "file_extension": ".py",
   "mimetype": "text/x-python",
   "name": "python",
   "nbconvert_exporter": "python",
   "pygments_lexer": "ipython3",
   "version": "3.5.3"
  }
 },
 "nbformat": 4,
 "nbformat_minor": 0
}